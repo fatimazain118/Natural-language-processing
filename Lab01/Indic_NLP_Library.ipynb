{
  "cells": [
    {
      "cell_type": "markdown",
      "metadata": {
        "id": "view-in-github",
        "colab_type": "text"
      },
      "source": [
        "<a href=\"https://colab.research.google.com/github/fatimazain118/Natural-language-processing/blob/main/Lab01/Indic_NLP_Library.ipynb\" target=\"_parent\"><img src=\"https://colab.research.google.com/assets/colab-badge.svg\" alt=\"Open In Colab\"/></a>"
      ]
    },
    {
      "cell_type": "markdown",
      "id": "08ca6537-c36d-4f27-8ba5-f5a78c838913",
      "metadata": {
        "id": "08ca6537-c36d-4f27-8ba5-f5a78c838913"
      },
      "source": [
        "# Introduction to Indic NLP Library"
      ]
    },
    {
      "cell_type": "markdown",
      "id": "28074f68-d1b8-4e07-85db-5fef8f571ac9",
      "metadata": {
        "id": "28074f68-d1b8-4e07-85db-5fef8f571ac9"
      },
      "source": [
        "Now we will have some hands-on experince using Indic NLP Library. While the libraries discussed in the previous notebook works for English, Indian languages sometimes requires additional handling like tokenization, sentence-splitting. etc. "
      ]
    },
    {
      "cell_type": "markdown",
      "id": "ffa6cf68-7df8-48c8-a7ab-6c3021611ad7",
      "metadata": {
        "id": "ffa6cf68-7df8-48c8-a7ab-6c3021611ad7"
      },
      "source": [
        "More details can be found here https://github.com/anoopkunchukuttan/indic_nlp_library"
      ]
    },
    {
      "cell_type": "markdown",
      "id": "2380b9ab-e9d7-4853-a2d4-5e0ff1dafe7f",
      "metadata": {
        "id": "2380b9ab-e9d7-4853-a2d4-5e0ff1dafe7f"
      },
      "source": [
        "## Set-up"
      ]
    },
    {
      "cell_type": "markdown",
      "id": "45f1b0c8-e3d9-4436-a258-7b4452aaca61",
      "metadata": {
        "id": "45f1b0c8-e3d9-4436-a258-7b4452aaca61"
      },
      "source": [
        "### Download IndicNLP Library resources from here"
      ]
    },
    {
      "cell_type": "code",
      "execution_count": 5,
      "id": "29af2403-5e09-40cb-b81d-e14c09b723b4",
      "metadata": {
        "id": "29af2403-5e09-40cb-b81d-e14c09b723b4",
        "colab": {
          "base_uri": "https://localhost:8080/"
        },
        "outputId": "3a61aa1a-0360-4a7f-ed74-cc2ddf45bc83"
      },
      "outputs": [
        {
          "output_type": "stream",
          "name": "stdout",
          "text": [
            "fatal: destination path 'indic_nlp_resources' already exists and is not an empty directory.\n"
          ]
        }
      ],
      "source": [
        "!git clone https://github.com/anoopkunchukuttan/indic_nlp_resources.git"
      ]
    },
    {
      "cell_type": "markdown",
      "id": "5f86aec2-a436-4952-a5a4-a2461fdc5767",
      "metadata": {
        "id": "5f86aec2-a436-4952-a5a4-a2461fdc5767"
      },
      "source": [
        "Set-up the path to Indic NLP Resources folder"
      ]
    },
    {
      "cell_type": "markdown",
      "id": "22765ad2-7f69-4c6c-bbb9-c6fa3bf1a554",
      "metadata": {
        "id": "22765ad2-7f69-4c6c-bbb9-c6fa3bf1a554"
      },
      "source": [
        "## Initialize the Indic NLP library"
      ]
    },
    {
      "cell_type": "code",
      "execution_count": 6,
      "id": "84f237c8-e3ff-4628-928c-dcc4310fb69c",
      "metadata": {
        "id": "84f237c8-e3ff-4628-928c-dcc4310fb69c"
      },
      "outputs": [],
      "source": [
        "INDIC_NLP_RESOURCES=r\"indic_nlp_resources/\""
      ]
    },
    {
      "cell_type": "code",
      "source": [
        "pip install indic-nlp-library"
      ],
      "metadata": {
        "colab": {
          "base_uri": "https://localhost:8080/"
        },
        "id": "b41vXoU5qxVv",
        "outputId": "a73aa358-fe7d-4c97-a776-6c558c4f9f4d"
      },
      "id": "b41vXoU5qxVv",
      "execution_count": 8,
      "outputs": [
        {
          "output_type": "stream",
          "name": "stdout",
          "text": [
            "Collecting indic-nlp-library\n",
            "  Downloading indic_nlp_library-0.81-py3-none-any.whl (40 kB)\n",
            "\u001b[K     |████████████████████████████████| 40 kB 3.0 MB/s \n",
            "\u001b[?25hCollecting sphinx-argparse\n",
            "  Downloading sphinx_argparse-0.3.1-py2.py3-none-any.whl (12 kB)\n",
            "Collecting morfessor\n",
            "  Downloading Morfessor-2.0.6-py3-none-any.whl (35 kB)\n",
            "Requirement already satisfied: pandas in /usr/local/lib/python3.7/dist-packages (from indic-nlp-library) (1.1.5)\n",
            "Requirement already satisfied: numpy in /usr/local/lib/python3.7/dist-packages (from indic-nlp-library) (1.19.5)\n",
            "Collecting sphinx-rtd-theme\n",
            "  Downloading sphinx_rtd_theme-1.0.0-py2.py3-none-any.whl (2.8 MB)\n",
            "\u001b[K     |████████████████████████████████| 2.8 MB 9.7 MB/s \n",
            "\u001b[?25hRequirement already satisfied: pytz>=2017.2 in /usr/local/lib/python3.7/dist-packages (from pandas->indic-nlp-library) (2018.9)\n",
            "Requirement already satisfied: python-dateutil>=2.7.3 in /usr/local/lib/python3.7/dist-packages (from pandas->indic-nlp-library) (2.8.2)\n",
            "Requirement already satisfied: six>=1.5 in /usr/local/lib/python3.7/dist-packages (from python-dateutil>=2.7.3->pandas->indic-nlp-library) (1.15.0)\n",
            "Requirement already satisfied: sphinx>=1.2.0 in /usr/local/lib/python3.7/dist-packages (from sphinx-argparse->indic-nlp-library) (1.8.6)\n",
            "Requirement already satisfied: Pygments>=2.0 in /usr/local/lib/python3.7/dist-packages (from sphinx>=1.2.0->sphinx-argparse->indic-nlp-library) (2.6.1)\n",
            "Requirement already satisfied: babel!=2.0,>=1.3 in /usr/local/lib/python3.7/dist-packages (from sphinx>=1.2.0->sphinx-argparse->indic-nlp-library) (2.9.1)\n",
            "Requirement already satisfied: imagesize in /usr/local/lib/python3.7/dist-packages (from sphinx>=1.2.0->sphinx-argparse->indic-nlp-library) (1.3.0)\n",
            "Requirement already satisfied: Jinja2>=2.3 in /usr/local/lib/python3.7/dist-packages (from sphinx>=1.2.0->sphinx-argparse->indic-nlp-library) (2.11.3)\n",
            "Requirement already satisfied: setuptools in /usr/local/lib/python3.7/dist-packages (from sphinx>=1.2.0->sphinx-argparse->indic-nlp-library) (57.4.0)\n",
            "Requirement already satisfied: packaging in /usr/local/lib/python3.7/dist-packages (from sphinx>=1.2.0->sphinx-argparse->indic-nlp-library) (21.3)\n",
            "Requirement already satisfied: docutils<0.18,>=0.11 in /usr/local/lib/python3.7/dist-packages (from sphinx>=1.2.0->sphinx-argparse->indic-nlp-library) (0.17.1)\n",
            "Requirement already satisfied: sphinxcontrib-websupport in /usr/local/lib/python3.7/dist-packages (from sphinx>=1.2.0->sphinx-argparse->indic-nlp-library) (1.2.4)\n",
            "Requirement already satisfied: alabaster<0.8,>=0.7 in /usr/local/lib/python3.7/dist-packages (from sphinx>=1.2.0->sphinx-argparse->indic-nlp-library) (0.7.12)\n",
            "Requirement already satisfied: requests>=2.0.0 in /usr/local/lib/python3.7/dist-packages (from sphinx>=1.2.0->sphinx-argparse->indic-nlp-library) (2.23.0)\n",
            "Requirement already satisfied: snowballstemmer>=1.1 in /usr/local/lib/python3.7/dist-packages (from sphinx>=1.2.0->sphinx-argparse->indic-nlp-library) (2.2.0)\n",
            "Requirement already satisfied: MarkupSafe>=0.23 in /usr/local/lib/python3.7/dist-packages (from Jinja2>=2.3->sphinx>=1.2.0->sphinx-argparse->indic-nlp-library) (2.0.1)\n",
            "Requirement already satisfied: certifi>=2017.4.17 in /usr/local/lib/python3.7/dist-packages (from requests>=2.0.0->sphinx>=1.2.0->sphinx-argparse->indic-nlp-library) (2021.10.8)\n",
            "Requirement already satisfied: urllib3!=1.25.0,!=1.25.1,<1.26,>=1.21.1 in /usr/local/lib/python3.7/dist-packages (from requests>=2.0.0->sphinx>=1.2.0->sphinx-argparse->indic-nlp-library) (1.24.3)\n",
            "Requirement already satisfied: idna<3,>=2.5 in /usr/local/lib/python3.7/dist-packages (from requests>=2.0.0->sphinx>=1.2.0->sphinx-argparse->indic-nlp-library) (2.10)\n",
            "Requirement already satisfied: chardet<4,>=3.0.2 in /usr/local/lib/python3.7/dist-packages (from requests>=2.0.0->sphinx>=1.2.0->sphinx-argparse->indic-nlp-library) (3.0.4)\n",
            "Requirement already satisfied: pyparsing!=3.0.5,>=2.0.2 in /usr/local/lib/python3.7/dist-packages (from packaging->sphinx>=1.2.0->sphinx-argparse->indic-nlp-library) (3.0.6)\n",
            "Requirement already satisfied: sphinxcontrib-serializinghtml in /usr/local/lib/python3.7/dist-packages (from sphinxcontrib-websupport->sphinx>=1.2.0->sphinx-argparse->indic-nlp-library) (1.1.5)\n",
            "Installing collected packages: sphinx-rtd-theme, sphinx-argparse, morfessor, indic-nlp-library\n",
            "Successfully installed indic-nlp-library-0.81 morfessor-2.0.6 sphinx-argparse-0.3.1 sphinx-rtd-theme-1.0.0\n"
          ]
        }
      ]
    },
    {
      "cell_type": "code",
      "execution_count": 9,
      "id": "07628b36-7af7-41ff-94b2-2aa30189f1f4",
      "metadata": {
        "id": "07628b36-7af7-41ff-94b2-2aa30189f1f4"
      },
      "outputs": [],
      "source": [
        "import sys\n",
        "from indicnlp import common\n",
        "common.set_resources_path(INDIC_NLP_RESOURCES)"
      ]
    },
    {
      "cell_type": "code",
      "execution_count": 10,
      "id": "a03f07ff-10b7-4cd9-8ce8-3a7e8facec0e",
      "metadata": {
        "id": "a03f07ff-10b7-4cd9-8ce8-3a7e8facec0e"
      },
      "outputs": [],
      "source": [
        "from indicnlp import loader\n",
        "loader.load()"
      ]
    },
    {
      "cell_type": "markdown",
      "id": "1d01cf85-9d11-44ad-844b-7d35485b9ffb",
      "metadata": {
        "id": "1d01cf85-9d11-44ad-844b-7d35485b9ffb"
      },
      "source": [
        "We will now try out some of the APIs provided by the library"
      ]
    },
    {
      "cell_type": "markdown",
      "id": "d550f1a9-26aa-4f4e-aa1d-ed81a8b204c1",
      "metadata": {
        "id": "d550f1a9-26aa-4f4e-aa1d-ed81a8b204c1"
      },
      "source": [
        "**NOTE:** Many APIs require us to provide the language we are working with. Language information is provided as a 2-letter ISO 639-1 codes. More details and the exact 2-letter code used can be found here https://en.wikipedia.org/wiki/List_of_ISO_639-1_codes\n",
        "\n",
        "Some languages do not have assigned 2-letter codes. The library uses the following two-letter codes for such languages:\n",
        "\n",
        " - Konkani : kK\n",
        " - Manipuri : mP\n",
        " - Bodo : bD"
      ]
    },
    {
      "cell_type": "markdown",
      "id": "92bb754d-86fc-4766-be56-0fd75fac102e",
      "metadata": {
        "id": "92bb754d-86fc-4766-be56-0fd75fac102e"
      },
      "source": [
        "## Text Normalization"
      ]
    },
    {
      "cell_type": "markdown",
      "id": "9b14ccb7-1fe2-4dd3-a445-ee0e120f3e97",
      "metadata": {
        "id": "9b14ccb7-1fe2-4dd3-a445-ee0e120f3e97"
      },
      "source": [
        "Standardize the text written in Indic scripts. Some of the issues handled are\n",
        " - Non-spacing characters\n",
        " - Multiple representations of Nukta based characters\n",
        " - Multiple representations of two part dependent vowel signs\n",
        " - Typing inconsistencies: e.g. use of pipe (|) for poorna virama"
      ]
    },
    {
      "cell_type": "code",
      "execution_count": 11,
      "id": "f8b8f795-f5f4-4a28-afd7-92c0efb95331",
      "metadata": {
        "id": "f8b8f795-f5f4-4a28-afd7-92c0efb95331"
      },
      "outputs": [],
      "source": [
        "def normalize_text(input_text, normalizer):\n",
        "    output_text=normalizer.normalize(input_text)\n",
        "\n",
        "    print(input_text)\n",
        "    print()\n",
        "\n",
        "    print('Before normalization')\n",
        "    print(' '.join([ hex(ord(c)) for c in input_text ] ))\n",
        "    print('Length: {}'.format(len(input_text)))\n",
        "    print()    \n",
        "    print('After normalization')\n",
        "    print(' '.join([ hex(ord(c)) for c in output_text ] ))\n",
        "    print('Length: {}'.format(len(output_text)))    "
      ]
    },
    {
      "cell_type": "code",
      "execution_count": 12,
      "id": "b86dce35-0f70-4390-be4a-6fb9687ecddd",
      "metadata": {
        "id": "b86dce35-0f70-4390-be4a-6fb9687ecddd",
        "colab": {
          "base_uri": "https://localhost:8080/"
        },
        "outputId": "f4c24032-1a5e-4b7c-d7ce-023b5dd8beaf"
      },
      "outputs": [
        {
          "output_type": "stream",
          "name": "stdout",
          "text": [
            "क़ क़\n",
            "\n",
            "Before normalization\n",
            "0x958 0x20 0x915 0x93c\n",
            "Length: 4\n",
            "\n",
            "After normalization\n",
            "0x915 0x93c 0x20 0x915 0x93c\n",
            "Length: 5\n",
            "ख़ ख़\n",
            "\n",
            "Before normalization\n",
            "0x959 0x20 0x916 0x93c\n",
            "Length: 4\n",
            "\n",
            "After normalization\n",
            "0x916 0x93c 0x20 0x916 0x93c\n",
            "Length: 5\n"
          ]
        }
      ],
      "source": [
        "from indicnlp.normalize.indic_normalize import IndicNormalizerFactory\n",
        "\n",
        "factory=IndicNormalizerFactory()\n",
        "normalizer=factory.get_normalizer(\"hi\")\n",
        "# Reference for Hindi https://unicode.org/charts/PDF/U0900.pdf\n",
        "\n",
        "input_text=\"\\u0958 \\u0915\\u093c\"\n",
        "\n",
        "normalize_text( input_text, normalizer )\n",
        "\n",
        "input_text=\"\\u0959 \\u0916\\u093c\"\n",
        "\n",
        "normalize_text( input_text, normalizer )"
      ]
    },
    {
      "cell_type": "markdown",
      "id": "cef56f0a-a51c-42d9-961b-8a6a4f7baad3",
      "metadata": {
        "id": "cef56f0a-a51c-42d9-961b-8a6a4f7baad3"
      },
      "source": [
        "#### To-Do: Find more instances of such issues in Hindi or your native language and print them here"
      ]
    },
    {
      "cell_type": "code",
      "execution_count": 13,
      "id": "a08d98d2-c0b0-441f-a212-988049a5f155",
      "metadata": {
        "id": "a08d98d2-c0b0-441f-a212-988049a5f155",
        "colab": {
          "base_uri": "https://localhost:8080/"
        },
        "outputId": "d4df7ef8-9880-4ce6-ad18-8cc60be10a80"
      },
      "outputs": [
        {
          "output_type": "stream",
          "name": "stdout",
          "text": [
            "फ़ फ़\n",
            "\n",
            "Before normalization\n",
            "0x95e 0x20 0x92b 0x93c\n",
            "Length: 4\n",
            "\n",
            "After normalization\n",
            "0x92b 0x93c 0x20 0x92b 0x93c\n",
            "Length: 5\n"
          ]
        }
      ],
      "source": [
        "input_text=\"\\u095e \\u092b\\u093c\"\n",
        "normalize_text( input_text, normalizer )"
      ]
    },
    {
      "cell_type": "code",
      "source": [
        "input_text=\"\\u095d \\u0922\\u093c\"\n",
        "normalize_text( input_text, normalizer )"
      ],
      "metadata": {
        "colab": {
          "base_uri": "https://localhost:8080/"
        },
        "id": "n2aTpXNdswZH",
        "outputId": "0d1fa3ad-f379-4105-9813-56d55dab958d"
      },
      "id": "n2aTpXNdswZH",
      "execution_count": 14,
      "outputs": [
        {
          "output_type": "stream",
          "name": "stdout",
          "text": [
            "ढ़ ढ़\n",
            "\n",
            "Before normalization\n",
            "0x95d 0x20 0x922 0x93c\n",
            "Length: 4\n",
            "\n",
            "After normalization\n",
            "0x922 0x93c 0x20 0x922 0x93c\n",
            "Length: 5\n"
          ]
        }
      ]
    },
    {
      "cell_type": "code",
      "source": [
        "input_text=\"\\u095b \\u091c\\u093c\"\n",
        "normalize_text( input_text, normalizer )"
      ],
      "metadata": {
        "colab": {
          "base_uri": "https://localhost:8080/"
        },
        "id": "l8oVnLZHtEOw",
        "outputId": "e55b0c91-5203-4794-add6-f0199dedc2e8"
      },
      "id": "l8oVnLZHtEOw",
      "execution_count": 15,
      "outputs": [
        {
          "output_type": "stream",
          "name": "stdout",
          "text": [
            "ज़ ज़\n",
            "\n",
            "Before normalization\n",
            "0x95b 0x20 0x91c 0x93c\n",
            "Length: 4\n",
            "\n",
            "After normalization\n",
            "0x91c 0x93c 0x20 0x91c 0x93c\n",
            "Length: 5\n"
          ]
        }
      ]
    },
    {
      "cell_type": "markdown",
      "id": "28ce4041-4cce-4dc2-be27-026a40936a55",
      "metadata": {
        "id": "28ce4041-4cce-4dc2-be27-026a40936a55"
      },
      "source": [
        "### Sentence Splitter"
      ]
    },
    {
      "cell_type": "markdown",
      "id": "b26fb0da-48d9-4d31-854f-2c4ca9b75ee0",
      "metadata": {
        "id": "b26fb0da-48d9-4d31-854f-2c4ca9b75ee0"
      },
      "source": [
        "Rule-based system to split text into sentences"
      ]
    },
    {
      "cell_type": "code",
      "execution_count": 16,
      "id": "dbdc9fe6-def7-4459-a497-6fa857624f71",
      "metadata": {
        "id": "dbdc9fe6-def7-4459-a497-6fa857624f71",
        "colab": {
          "base_uri": "https://localhost:8080/"
        },
        "outputId": "b02ee93e-b245-4e6b-a0e0-416f1fc5a58a"
      },
      "outputs": [
        {
          "output_type": "stream",
          "name": "stdout",
          "text": [
            "बहुत समय पहले की बात है.\n",
            "एक घने जंगल में एक तोता अपने दो बच्चों के साथ रहता है.\n",
            "उनका जीवन ख़ुशी-ख़ुशी बीत रहा था.\n"
          ]
        }
      ],
      "source": [
        "from indicnlp.tokenize import sentence_tokenize\n",
        "\n",
        "indic_string=\"बहुत समय पहले की बात है. एक घने जंगल में एक तोता अपने दो बच्चों के साथ रहता है. उनका जीवन ख़ुशी-ख़ुशी बीत रहा था.\"\n",
        "sentences=sentence_tokenize.sentence_split(indic_string, lang='hi')\n",
        "for t in sentences:\n",
        "    print(t)\n"
      ]
    },
    {
      "cell_type": "markdown",
      "id": "dc8930ca-c113-4fa2-8a75-b2fe65790c60",
      "metadata": {
        "id": "dc8930ca-c113-4fa2-8a75-b2fe65790c60"
      },
      "source": [
        "#### To-Do: Experiment with sentence-splitting for your native language. Find instances where the model could fail"
      ]
    },
    {
      "cell_type": "code",
      "execution_count": 18,
      "id": "0a5891df-ede1-47cc-86cc-cbc7b7439535",
      "metadata": {
        "id": "0a5891df-ede1-47cc-86cc-cbc7b7439535",
        "colab": {
          "base_uri": "https://localhost:8080/"
        },
        "outputId": "86f01976-c054-49dc-df43-09a91887387a"
      },
      "outputs": [
        {
          "output_type": "stream",
          "name": "stdout",
          "text": [
            "एक गाँव में एक दयालु दानव रहता था.\n",
            "वह हमेशा लोगों की मदद किया करता था.\n",
            "एक दिन ऐसा हुआ कि दो ख़तरनाक भालुओं का जोड़ा उस गाँव में आ गया.\n"
          ]
        }
      ],
      "source": [
        "from indicnlp.tokenize import sentence_tokenize\n",
        "\n",
        "indic_string=\"एक गाँव में एक दयालु दानव रहता था. वह हमेशा लोगों की मदद किया करता था. एक दिन ऐसा हुआ कि दो ख़तरनाक भालुओं का जोड़ा उस गाँव में आ गया.\"\n",
        "sentences=sentence_tokenize.sentence_split(indic_string, lang='hi')\n",
        "for t in sentences:\n",
        "    print(t)"
      ]
    },
    {
      "cell_type": "markdown",
      "id": "3dc04951-0ca9-4cd2-bb8d-69a4dcf3ca4d",
      "metadata": {
        "id": "3dc04951-0ca9-4cd2-bb8d-69a4dcf3ca4d"
      },
      "source": [
        "### Tokenization"
      ]
    },
    {
      "cell_type": "markdown",
      "id": "9f06ae4f-a3f7-4eed-9719-962158176446",
      "metadata": {
        "id": "9f06ae4f-a3f7-4eed-9719-962158176446"
      },
      "source": [
        "Tokenize based on punctuation boundary"
      ]
    },
    {
      "cell_type": "code",
      "execution_count": 19,
      "id": "2f6e3d74-2aef-483a-a1a6-7ddcaa49ce3b",
      "metadata": {
        "id": "2f6e3d74-2aef-483a-a1a6-7ddcaa49ce3b",
        "colab": {
          "base_uri": "https://localhost:8080/"
        },
        "outputId": "758a4a38-1431-4ec4-891a-ab4a6b1d4531"
      },
      "outputs": [
        {
          "output_type": "stream",
          "name": "stdout",
          "text": [
            "Input String: उनका जीवन ख़ुशी-ख़ुशी बीत रहा था.\n",
            "Tokens: \n",
            "उनका\n",
            "जीवन\n",
            "ख़ुशी\n",
            "-\n",
            "ख़ुशी\n",
            "बीत\n",
            "रहा\n",
            "था\n",
            ".\n"
          ]
        }
      ],
      "source": [
        "from indicnlp.tokenize import indic_tokenize  \n",
        "\n",
        "indic_string='उनका जीवन ख़ुशी-ख़ुशी बीत रहा था.'\n",
        "\n",
        "print('Input String: {}'.format(indic_string))\n",
        "print('Tokens: ')\n",
        "for t in indic_tokenize.trivial_tokenize(indic_string): \n",
        "    print(t)"
      ]
    },
    {
      "cell_type": "markdown",
      "id": "3f19e738-815a-42fd-ac8c-6ac0547c0419",
      "metadata": {
        "id": "3f19e738-815a-42fd-ac8c-6ac0547c0419"
      },
      "source": [
        "#### Detokenization"
      ]
    },
    {
      "cell_type": "markdown",
      "id": "15638087-b7ca-4f19-bc58-3a5f9f9a22c0",
      "metadata": {
        "id": "15638087-b7ca-4f19-bc58-3a5f9f9a22c0"
      },
      "source": [
        "It is natural to not add white-space between words and punctuations. The detokenizer handles that part"
      ]
    },
    {
      "cell_type": "code",
      "execution_count": 20,
      "id": "f47ffa67-be15-4b87-b8e2-bac78b73c851",
      "metadata": {
        "id": "f47ffa67-be15-4b87-b8e2-bac78b73c851",
        "colab": {
          "base_uri": "https://localhost:8080/"
        },
        "outputId": "c4b1f4fc-20f7-4b46-9400-f885430d4663"
      },
      "outputs": [
        {
          "output_type": "stream",
          "name": "stdout",
          "text": [
            "Input String: उनका जीवन ख़ुशी - ख़ुशी बीत रहा था .\n",
            "Detokenized String: उनका जीवन ख़ुशी-ख़ुशी बीत रहा था.\n"
          ]
        }
      ],
      "source": [
        "from indicnlp.tokenize import indic_detokenize  \n",
        "indic_string = ' '.join( indic_tokenize.trivial_tokenize(indic_string) )\n",
        "\n",
        "print('Input String: {}'.format(indic_string))\n",
        "print('Detokenized String: {}'.format(indic_detokenize.trivial_detokenize(indic_string,lang='hi')))\n"
      ]
    },
    {
      "cell_type": "markdown",
      "id": "07132541-8506-4752-a314-e06f03f2be62",
      "metadata": {
        "id": "07132541-8506-4752-a314-e06f03f2be62"
      },
      "source": [
        "#### To-Do: Experiment with tokenization for your native language."
      ]
    },
    {
      "cell_type": "code",
      "execution_count": 21,
      "id": "1e9c62a1-4cb3-448f-9e55-8f8efd83db53",
      "metadata": {
        "id": "1e9c62a1-4cb3-448f-9e55-8f8efd83db53",
        "colab": {
          "base_uri": "https://localhost:8080/"
        },
        "outputId": "36eb3979-26b1-4142-dd83-1c23f92e658e"
      },
      "outputs": [
        {
          "output_type": "stream",
          "name": "stdout",
          "text": [
            "Input String: तब से वे एक-दूसरे से मिलने की कोशिश करते हैं\n",
            "Tokens: \n",
            "तब\n",
            "से\n",
            "वे\n",
            "एक\n",
            "-\n",
            "दूसरे\n",
            "से\n",
            "मिलने\n",
            "की\n",
            "कोशिश\n",
            "करते\n",
            "हैं\n"
          ]
        }
      ],
      "source": [
        "indic_string='तब से वे एक-दूसरे से मिलने की कोशिश करते हैं'\n",
        "\n",
        "print('Input String: {}'.format(indic_string))\n",
        "print('Tokens: ')\n",
        "for t in indic_tokenize.trivial_tokenize(indic_string): \n",
        "    print(t)"
      ]
    },
    {
      "cell_type": "code",
      "source": [
        "from indicnlp.tokenize import indic_detokenize  \n",
        "indic_string = ' '.join( indic_tokenize.trivial_tokenize(indic_string) )\n",
        "\n",
        "print('Input String: {}'.format(indic_string))\n",
        "print('Detokenized String: {}'.format(indic_detokenize.trivial_detokenize(indic_string,lang='hi')))"
      ],
      "metadata": {
        "colab": {
          "base_uri": "https://localhost:8080/"
        },
        "id": "aWxF0ntGvCKo",
        "outputId": "066272c3-30f7-48a4-b836-9ea8c9b5b81b"
      },
      "id": "aWxF0ntGvCKo",
      "execution_count": 22,
      "outputs": [
        {
          "output_type": "stream",
          "name": "stdout",
          "text": [
            "Input String: तब से वे एक - दूसरे से मिलने की कोशिश करते हैं\n",
            "Detokenized String: तब से वे एक-दूसरे से मिलने की कोशिश करते हैं\n"
          ]
        }
      ]
    },
    {
      "cell_type": "markdown",
      "id": "f361eeb5-32e2-4859-a022-390fe22e7345",
      "metadata": {
        "id": "f361eeb5-32e2-4859-a022-390fe22e7345"
      },
      "source": [
        "### Script Conversion"
      ]
    },
    {
      "cell_type": "markdown",
      "id": "30bf7fb1-08c7-448e-94d3-4d33cb997d10",
      "metadata": {
        "id": "30bf7fb1-08c7-448e-94d3-4d33cb997d10"
      },
      "source": [
        "Convert from one Indic script to another using a rule-based system"
      ]
    },
    {
      "cell_type": "markdown",
      "id": "33343212-e504-4833-9e54-7151daed50ab",
      "metadata": {
        "id": "33343212-e504-4833-9e54-7151daed50ab"
      },
      "source": [
        "The following scripts are supported:\n",
        "\n",
        "Devanagari (Hindi,Marathi,Sanskrit,Konkani,Sindhi,Nepali), Assamese, Bengali, Oriya, Gujarati, Gurumukhi (Punjabi), Sindhi, Tamil, Telugu, Kannada, Malayalam"
      ]
    },
    {
      "cell_type": "code",
      "execution_count": 23,
      "id": "c4e3d3fa-6b3b-4878-88d1-9d63ae841ba5",
      "metadata": {
        "id": "c4e3d3fa-6b3b-4878-88d1-9d63ae841ba5",
        "colab": {
          "base_uri": "https://localhost:8080/"
        },
        "outputId": "855bfe9e-74bd-4cb7-d9c0-89cc735b1610"
      },
      "outputs": [
        {
          "output_type": "stream",
          "name": "stdout",
          "text": [
            "ರಾಜಸ್ಥಾನ\n"
          ]
        }
      ],
      "source": [
        "from indicnlp.transliterate.unicode_transliterate import UnicodeIndicTransliterator\n",
        "input_text = 'राजस्थान'\n",
        "print(UnicodeIndicTransliterator.transliterate(input_text,\"hi\",\"kn\"))"
      ]
    },
    {
      "cell_type": "markdown",
      "id": "f32a8d89-cf4a-4ef3-a230-0fb1af01f806",
      "metadata": {
        "id": "f32a8d89-cf4a-4ef3-a230-0fb1af01f806"
      },
      "source": [
        "#### To-Do: Experiment with Script conversion between various language pairs"
      ]
    },
    {
      "cell_type": "code",
      "execution_count": 30,
      "id": "32ea0b25-6206-4369-99ab-864f0b53b2c5",
      "metadata": {
        "id": "32ea0b25-6206-4369-99ab-864f0b53b2c5",
        "colab": {
          "base_uri": "https://localhost:8080/"
        },
        "outputId": "c3478217-1495-4369-b1b4-20d76f04ced0"
      },
      "outputs": [
        {
          "output_type": "stream",
          "name": "stdout",
          "text": [
            "ബരേലീ\n",
            "ବରେଲୀ\n",
            "বরেলী\n"
          ]
        }
      ],
      "source": [
        "input_text = 'बरेली'\n",
        "print(UnicodeIndicTransliterator.transliterate(input_text,\"hi\",\"ml\"))  #Malayalam\n",
        "print(UnicodeIndicTransliterator.transliterate(input_text,\"hi\",\"or\"))  #Oriya\n",
        "print(UnicodeIndicTransliterator.transliterate(input_text,\"hi\",\"bn\"))  #Bengali"
      ]
    },
    {
      "cell_type": "markdown",
      "id": "99945fff-9bd1-461b-bcc7-4d66c5ed459e",
      "metadata": {
        "id": "99945fff-9bd1-461b-bcc7-4d66c5ed459e"
      },
      "source": [
        "### Romanization"
      ]
    },
    {
      "cell_type": "markdown",
      "id": "7187d3b4-2dee-4bc8-a2aa-800d6d47cd1a",
      "metadata": {
        "id": "7187d3b4-2dee-4bc8-a2aa-800d6d47cd1a"
      },
      "source": [
        "Convert script text to Roman text in the ITRANS notation"
      ]
    },
    {
      "cell_type": "code",
      "execution_count": 31,
      "id": "25b309ac-d1fd-4350-ad34-c0a47121836f",
      "metadata": {
        "id": "25b309ac-d1fd-4350-ad34-c0a47121836f",
        "colab": {
          "base_uri": "https://localhost:8080/"
        },
        "outputId": "36bf004c-db3e-4a87-c01e-cc9294aad56c"
      },
      "outputs": [
        {
          "output_type": "stream",
          "name": "stdout",
          "text": [
            "rudra muurti\n"
          ]
        }
      ],
      "source": [
        "from indicnlp.transliterate.unicode_transliterate import ItransTransliterator\n",
        "\n",
        "input_text = 'ರುದ್ರ ಮೂರ್ತಿ'\n",
        "lang='kn'\n",
        "\n",
        "itrans_text = ItransTransliterator.to_itrans(input_text,lang)\n",
        "\n",
        "print(itrans_text)\n"
      ]
    },
    {
      "cell_type": "markdown",
      "id": "2db72ccb-9d0f-40bd-82c6-2d8cd7ed07c8",
      "metadata": {
        "id": "2db72ccb-9d0f-40bd-82c6-2d8cd7ed07c8"
      },
      "source": [
        "#### To-Do: Experiment with Romanization between your native language and English"
      ]
    },
    {
      "cell_type": "code",
      "execution_count": 33,
      "id": "d4a04aaa-5979-414f-af49-cd377fc14465",
      "metadata": {
        "id": "d4a04aaa-5979-414f-af49-cd377fc14465",
        "colab": {
          "base_uri": "https://localhost:8080/"
        },
        "outputId": "6031d86b-6109-4c94-fecb-74eb9f0f7dc7"
      },
      "outputs": [
        {
          "output_type": "stream",
          "name": "stdout",
          "text": [
            "jaainaba phaatimaa\n"
          ]
        }
      ],
      "source": [
        "input_text = 'ज़ैनब फातिमा'\n",
        "lang='hi'\n",
        "\n",
        "itrans_text = ItransTransliterator.to_itrans(input_text,lang)\n",
        "\n",
        "print(itrans_text)"
      ]
    },
    {
      "cell_type": "markdown",
      "id": "b5923795-0cfe-436c-8294-c5471da47347",
      "metadata": {
        "id": "b5923795-0cfe-436c-8294-c5471da47347"
      },
      "source": [
        "### Indicization (ITRANS to Indic Script)"
      ]
    },
    {
      "cell_type": "markdown",
      "id": "dbde1bc2-cae3-4260-909c-80011b4e3509",
      "metadata": {
        "id": "dbde1bc2-cae3-4260-909c-80011b4e3509"
      },
      "source": [
        "Convert script text in ITRANS notation to Indic script"
      ]
    },
    {
      "cell_type": "code",
      "execution_count": 34,
      "id": "afa14bcd-7611-484a-bd9a-ab05484984c7",
      "metadata": {
        "id": "afa14bcd-7611-484a-bd9a-ab05484984c7",
        "colab": {
          "base_uri": "https://localhost:8080/"
        },
        "outputId": "e8650bc1-3e01-4188-b198-9c31c35c5021"
      },
      "outputs": [
        {
          "output_type": "stream",
          "name": "stdout",
          "text": [
            "ಜಾಇನಬ ಫಾತಿಮಾ\n",
            "c9c\n",
            "cbe\n",
            "c87\n",
            "ca8\n",
            "cac\n",
            "20\n",
            "cab\n",
            "cbe\n",
            "ca4\n",
            "cbf\n",
            "cae\n",
            "cbe\n"
          ]
        }
      ],
      "source": [
        "from indicnlp.transliterate.unicode_transliterate import ItransTransliterator\n",
        "\n",
        "lang='kn'\n",
        "\n",
        "x = ItransTransliterator.from_itrans(itrans_text,lang)\n",
        "print(x)\n",
        "for y in x:\n",
        "    print('{:x}'.format(ord(y)))\n"
      ]
    },
    {
      "cell_type": "markdown",
      "id": "c8591b73-d358-4d7b-bd62-684e6a86f822",
      "metadata": {
        "id": "c8591b73-d358-4d7b-bd62-684e6a86f822"
      },
      "source": [
        "### Word Segmentation"
      ]
    },
    {
      "cell_type": "markdown",
      "id": "7c46647e-e671-412c-b68a-b9120c63e51f",
      "metadata": {
        "id": "7c46647e-e671-412c-b68a-b9120c63e51f"
      },
      "source": [
        "Perform unsupervised word segmentation using Morfessor\n",
        "\n",
        "The following languages are supported:\n",
        "\n",
        "Hindi, Punjabi, Marathi, Konkani, Gujarati, Bengali, Kannada, Tamil, Telugu, Malayalam"
      ]
    },
    {
      "cell_type": "code",
      "execution_count": 35,
      "id": "6b1b415e-1a3c-47ef-ac3d-bcf7f408d406",
      "metadata": {
        "id": "6b1b415e-1a3c-47ef-ac3d-bcf7f408d406"
      },
      "outputs": [],
      "source": [
        "from indicnlp.morph import unsupervised_morph \n",
        "from indicnlp import common\n",
        "\n",
        "analyzer=unsupervised_morph.UnsupervisedMorphAnalyzer('kn')"
      ]
    },
    {
      "cell_type": "code",
      "execution_count": 36,
      "id": "52d49870-297d-4332-a2f1-b95c8fdcca10",
      "metadata": {
        "id": "52d49870-297d-4332-a2f1-b95c8fdcca10",
        "colab": {
          "base_uri": "https://localhost:8080/"
        },
        "outputId": "dee8ff2f-ba59-439f-fea5-187eecab1d73"
      },
      "outputs": [
        {
          "output_type": "stream",
          "name": "stdout",
          "text": [
            "ರೈತ\n",
            "ನೊಬ್ಬನ\n",
            "ತೋಟ\n",
            "ದಲ್ಲಿದ್ದ\n",
            "ಸೇಬು\n",
            "ಮರ\n",
            "ದಲ್ಲಿ\n",
            "ಒಂದೇ\n",
            "ಒಂದು\n",
            "ಹಣ್ಣು\n",
            "ಬೆಳೆಯ\n",
            "ಿತು\n",
            ".\n"
          ]
        }
      ],
      "source": [
        "indic_string='ರೈತನೊಬ್ಬನ ತೋಟದಲ್ಲಿದ್ದ ಸೇಬು ಮರದಲ್ಲಿಒಂದೇ ಒಂದು ಹಣ್ಣು ಬೆಳೆಯಿತು .'\n",
        "\n",
        "analyzes_tokens=analyzer.morph_analyze_document(indic_string.split(' '))\n",
        "\n",
        "for w in analyzes_tokens: \n",
        "    print(w)"
      ]
    },
    {
      "cell_type": "markdown",
      "id": "088faadb-6579-463e-93fd-a82696682311",
      "metadata": {
        "id": "088faadb-6579-463e-93fd-a82696682311"
      },
      "source": [
        "#### To-Do: Experiment with Word Segmentation for your native language"
      ]
    },
    {
      "cell_type": "code",
      "execution_count": 37,
      "id": "4dc9d347-2eb9-472d-8270-643f961a9632",
      "metadata": {
        "id": "4dc9d347-2eb9-472d-8270-643f961a9632",
        "colab": {
          "base_uri": "https://localhost:8080/"
        },
        "outputId": "a93d8489-b9b9-45b6-9273-af23168ee14f"
      },
      "outputs": [
        {
          "output_type": "stream",
          "name": "stdout",
          "text": [
            "एक\n",
            "गाँव\n",
            "में\n",
            "एक\n",
            "दयालु\n",
            "दानव\n",
            "रहता\n",
            "था.\n",
            "वह\n",
            "हमेशा\n",
            "लोगों\n",
            "की\n",
            "मदद\n",
            "किया\n",
            "कर\n",
            "ता\n",
            "था.\n",
            "एक\n",
            "दिन\n",
            "ऐसा\n",
            "हुआ\n",
            "कि\n",
            "दो\n",
            "ख़तरनाक\n",
            "भालु\n",
            "ओं\n",
            "का\n",
            "जोड़ा\n",
            "उस\n",
            "गाँव\n",
            "में\n",
            "आ\n",
            "गया.\n"
          ]
        }
      ],
      "source": [
        "analyzer=unsupervised_morph.UnsupervisedMorphAnalyzer('hi')\n",
        "\n",
        "indic_string = \"एक गाँव में एक दयालु दानव रहता था. वह हमेशा लोगों की मदद किया करता था. एक दिन ऐसा हुआ कि दो ख़तरनाक भालुओं का जोड़ा उस गाँव में आ गया.\"\n",
        "\n",
        "analyzes_tokens=analyzer.morph_analyze_document(indic_string.split(' '))\n",
        "\n",
        "for w in analyzes_tokens: \n",
        "    print(w)"
      ]
    }
  ],
  "metadata": {
    "kernelspec": {
      "display_name": "Python 3 (ipykernel)",
      "language": "python",
      "name": "python3"
    },
    "language_info": {
      "codemirror_mode": {
        "name": "ipython",
        "version": 3
      },
      "file_extension": ".py",
      "mimetype": "text/x-python",
      "name": "python",
      "nbconvert_exporter": "python",
      "pygments_lexer": "ipython3",
      "version": "3.8.0"
    },
    "colab": {
      "name": "Indic_NLP_Library.ipynb",
      "provenance": [],
      "include_colab_link": true
    }
  },
  "nbformat": 4,
  "nbformat_minor": 5
}